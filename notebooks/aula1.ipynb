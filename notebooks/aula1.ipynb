{
 "cells": [
  {
   "cell_type": "code",
   "execution_count": 2,
   "metadata": {},
   "outputs": [],
   "source": [
    "import pandas as pd"
   ]
  },
  {
   "cell_type": "code",
   "execution_count": 3,
   "metadata": {},
   "outputs": [
    {
     "name": "stderr",
     "output_type": "stream",
     "text": [
      "/tmp/ipykernel_36058/188126341.py:2: DtypeWarning: Columns (22) have mixed types. Specify dtype option on import or set low_memory=False.\n",
      "  df2 = pd.read_csv('../files/reclamacoes-fundamentadas-sindec-2013.csv')\n",
      "/tmp/ipykernel_36058/188126341.py:4: DtypeWarning: Columns (22) have mixed types. Specify dtype option on import or set low_memory=False.\n",
      "  df4 = pd.read_csv('../files/reclamacoes-fundamentadas-sindec-2015.csv')\n"
     ]
    }
   ],
   "source": [
    "df1 = pd.read_csv('../files/reclamacoes-fundamentadas-sindec-2012.csv', nrows=15000)\n",
    "df2 = pd.read_csv('../files/reclamacoes-fundamentadas-sindec-2013.csv')\n",
    "df3 = pd.read_csv('../files/reclamacoes-fundamentadas-sindec-2014.csv')\n",
    "df4 = pd.read_csv('../files/reclamacoes-fundamentadas-sindec-2015.csv')\n",
    "df5 = pd.read_csv('../files/reclamacoes-fundamentadas-sindec-2016.csv')"
   ]
  },
  {
   "cell_type": "code",
   "execution_count": 4,
   "metadata": {},
   "outputs": [],
   "source": [
    "dfs = [df1, df2, df3, df4, df5]\n",
    "df_full = pd.concat(dfs)"
   ]
  },
  {
   "cell_type": "code",
   "execution_count": 5,
   "metadata": {},
   "outputs": [
    {
     "data": {
      "text/plain": [
       "(1009996, 23)"
      ]
     },
     "execution_count": 5,
     "metadata": {},
     "output_type": "execute_result"
    }
   ],
   "source": [
    "df_full.shape"
   ]
  },
  {
   "cell_type": "code",
   "execution_count": 6,
   "metadata": {},
   "outputs": [],
   "source": [
    "df_full.to_csv('../files/teste.csv')"
   ]
  }
 ],
 "metadata": {
  "kernelspec": {
   "display_name": "Python 3.9.12 ('study_environment')",
   "language": "python",
   "name": "python3"
  },
  "language_info": {
   "codemirror_mode": {
    "name": "ipython",
    "version": 3
   },
   "file_extension": ".py",
   "mimetype": "text/x-python",
   "name": "python",
   "nbconvert_exporter": "python",
   "pygments_lexer": "ipython3",
   "version": "3.9.12"
  },
  "orig_nbformat": 4,
  "vscode": {
   "interpreter": {
    "hash": "433cea8eda2e1cce0fcc1de77464a0488324d0c749cf16ca38e438b745ccfcb4"
   }
  }
 },
 "nbformat": 4,
 "nbformat_minor": 2
}
